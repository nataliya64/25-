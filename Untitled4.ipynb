{
  "nbformat": 4,
  "nbformat_minor": 0,
  "metadata": {
    "colab": {
      "provenance": [],
      "authorship_tag": "ABX9TyMaY2lTOnBpbW4fbzaJCxas",
      "include_colab_link": true
    },
    "kernelspec": {
      "name": "python3",
      "display_name": "Python 3"
    },
    "language_info": {
      "name": "python"
    }
  },
  "cells": [
    {
      "cell_type": "markdown",
      "metadata": {
        "id": "view-in-github",
        "colab_type": "text"
      },
      "source": [
        "<a href=\"https://colab.research.google.com/github/nataliya64/25-/blob/main/Untitled4.ipynb\" target=\"_parent\"><img src=\"https://colab.research.google.com/assets/colab-badge.svg\" alt=\"Open In Colab\"/></a>"
      ]
    },
    {
      "cell_type": "markdown",
      "source": [
        "привет мир"
      ],
      "metadata": {
        "id": "MDjGcXUr8uFq"
      }
    },
    {
      "cell_type": "markdown",
      "source": [
        "привет"
      ],
      "metadata": {
        "id": "5e9BiJ7y8yig"
      }
    },
    {
      "cell_type": "code",
      "source": [],
      "metadata": {
        "id": "gUGjd7cyT1Pu"
      },
      "execution_count": null,
      "outputs": []
    }
  ]
}